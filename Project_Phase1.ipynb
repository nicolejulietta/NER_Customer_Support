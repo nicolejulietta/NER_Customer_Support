{
  "nbformat": 4,
  "nbformat_minor": 2,
  "metadata": {
    "colab": {
      "provenance": [],
      "authorship_tag": "ABX9TyPJAzpE3CIKi1O5VzADaVxJ",
      "include_colab_link": true
    },
    "kernelspec": {
      "name": "python3",
      "display_name": "Python 3"
    },
    "language_info": {
      "name": "python"
    }
  },
  "cells": [
    {
      "cell_type": "markdown",
      "metadata": {
        "id": "view-in-github",
        "colab_type": "text"
      },
      "source": [
        "<a href=\"https://colab.research.google.com/github/nicolejulietta/NER_Customer_Support/blob/main/Project_Phase1.ipynb\" target=\"_parent\"><img src=\"https://colab.research.google.com/assets/colab-badge.svg\" alt=\"Open In Colab\"/></a>"
      ]
    },
    {
      "cell_type": "code",
      "execution_count": null,
      "metadata": {
        "colab": {
          "base_uri": "https://localhost:8080/"
        },
        "id": "7JKCo7hd4eJD"
      },
      "outputs": [],
      "source": [
        "!pip install spacy pandas PyPDF2\n",
        "!python -m spacy download en_core_web_sm #Helps recognize common entities\n"
      ]
    },
    {
      "cell_type": "code",
      "execution_count": null,
      "metadata": {
        "id": "TdDPgCQt8Zvl"
      },
      "outputs": [],
      "source": [
        "import spacy\n",
        "import random\n",
        "from spacy.training.example import Example\n"
      ]
    },
    {
      "cell_type": "code",
      "execution_count": null,
      "metadata": {
        "colab": {
          "base_uri": "https://localhost:8080/"
        },
        "id": "I6MaQhVJ95bA"
      },
      "outputs": [],
      "source": [
        "# Load Spacy's basic English model\n",
        "nlp = spacy.load(\"en_core_web_sm\")\n"
      ]
    },
    {
      "cell_type": "code",
      "execution_count": null,
      "metadata": {
        "colab": {
          "base_uri": "https://localhost:8080/"
        },
        "id": "uzTbrdv2-yi2"
      },
      "outputs": [],
      "source": [
        "LABELS = [\n",
        "    #Customer Support Entities\n",
        "    \"CUSTOMER_NAME\", \"SUPPORT_AGENT\", \"PRODUCT_NAME\", \"ORDER_NUMBER\",\n",
        "    \"TICKET_NUMBER\", \"ISSUE_DESCRIPTION\", \"CUSTOMER_FEEDBACK\",\n",
        "    \"SERVICE_REQUEST\", \"PRODUCT_MODEL\", \"SUPPORT_CHANNEL\", \"LOCATION\",\n",
        "    \"COMPLAINT_TYPE\", \"TICKET_STATUS\", \"TIME_DATE\", \"ESCALATION_REQUEST\",\n",
        "    \"REFUND_REQUEST\", \"SHIPPING_INFO\", \"DISCOUNT_PROMO\",\n",
        "    \"CUSTOMER_SATISFACTION\", \"SURVEY_REQUEST\",\n",
        "\n",
        "    # Customer Service Entities\n",
        "    \"COMPANY_NAME\", \"PRODUCT_SERVICE_NAME\", \"SLA_TERMS\", \"CUSTOMER_QUERY\",\n",
        "    \"SERVICE_TYPE\", \"PAYMENT_ISSUE\", \"SHIPPING_DELIVERY_INFO\",\n",
        "    \"RETURN_REQUEST\", \"FEEDBACK_REVIEW\", \"DISCOUNT_CODE\"\n",
        "]\n",
        "\n",
        "print(\"All 30 entity labels are set up!\")\n"
      ]
    },
    {
      "cell_type": "code",
      "execution_count": null,
      "metadata": {
        "id": "dPOsmBMQslFk"
      },
      "outputs": [],
      "source": [
        "TRAIN_DATA = [\n",
        "    #Customer Support Entities\n",
        "    (\"Marissa Velez contacted support about a missing order.\",\n",
        "     {\"entities\": [(0, 14, \"CUSTOMER_NAME\")]}),\n",
        "\n",
        "    (\"Support agent Juan Rodríguez resolved the issue quickly.\",\n",
        "     {\"entities\": [(14, 28, \"SUPPORT_AGENT\")]}),\n",
        "\n",
        "    (\"The customer requested a refund for their Sony PlayStation 5.\",\n",
        "     {\"entities\": [(40, 59, \"PRODUCT_NAME\")]}),\n",
        "\n",
        "    (\"Order #B78234 has been shipped and will arrive soon.\",\n",
        "     {\"entities\": [(6, 13, \"ORDER_NUMBER\")]}),\n",
        "\n",
        "    (\"Ticket #R90765 is still open and awaiting an agent’s response.\",\n",
        "     {\"entities\": [(7, 13, \"TICKET_NUMBER\")]}),\n",
        "\n",
        "    (\"The issue described was 'connectivity problems on Wi-Fi'.\",\n",
        "     {\"entities\": [(27, 57, \"ISSUE_DESCRIPTION\")]}),\n",
        "\n",
        "    (\"Customer feedback: 'The service was terrible, very frustrating!'\n",
        "     , {\"entities\": [(19, 60, \"CUSTOMER_FEEDBACK\")]}),\n",
        "\n",
        "    (\"The user submitted a warranty claim for their broken smartphone.\",\n",
        "     {\"entities\": [(21, 36, \"SERVICE_REQUEST\")]}),\n",
        "\n",
        "    (\"They need help with their new Google Pixel 8 Pro model.\",\n",
        "     {\"entities\": [(30, 50, \"PRODUCT_MODEL\")]}),\n",
        "\n",
        "    (\"They contacted support via phone support for a technical issue.\",\n",
        "     {\"entities\": [(29, 42, \"SUPPORT_CHANNEL\")]}),\n",
        "\n",
        "    (\"The issue was reported from their address in São Paulo, Brazil.\",\n",
        "     {\"entities\": [(46, 64, \"LOCATION\")]}),\n",
        "\n",
        "    (\"Customer complaint: 'I received the wrong color for my sneakers!'\n",
        "     , {\"entities\": [(19, 58, \"COMPLAINT_TYPE\")]}),\n",
        "\n",
        "    (\"The ticket status has been changed to 'pending review'.\",\n",
        "     {\"entities\": [(26, 41, \"TICKET_STATUS\")]}),\n",
        "\n",
        "    (\"The last update on this case was on February 19, 2025.\",\n",
        "     {\"entities\": [(36, 51, \"TIME_DATE\")]}),\n",
        "\n",
        "    (\"The customer asked to escalate the issue to the regional manager.\",\n",
        "     {\"entities\": [(34, 58, \"ESCALATION_REQUEST\")]}),\n",
        "\n",
        "    (\"A refund request was submitted for the defective washing machine.\",\n",
        "     {\"entities\": [(2, 16, \"REFUND_REQUEST\")]}),\n",
        "\n",
        "    (\"Shipping information shows that the package is 'delayed in transit'.\",\n",
        "     {\"entities\": [(26, 43, \"SHIPPING_INFO\")]}),\n",
        "\n",
        "    (\"The customer used a 30% discount promo during their purchase.\",\n",
        "     {\"entities\": [(27, 48, \"DISCOUNT_PROMO\")]}),\n",
        "\n",
        "    (\"Customer satisfaction ratings indicate a 2.5-star average.\",\n",
        "     {\"entities\": [(27, 44, \"CUSTOMER_SATISFACTION\")]}),\n",
        "\n",
        "    (\"The survey request asked: 'Would you recommend our service?'\n",
        "     , {\"entities\": [(4, 18, \"SURVEY_REQUEST\")]}),\n",
        "\n",
        "    # Customer Service Entities\n",
        "    (\"Toyota has been known for excellent customer service.\",\n",
        "     {\"entities\": [(0, 6, \"COMPANY_NAME\")]}),\n",
        "\n",
        "    (\"Customers often complain about connectivity issues with Verizon 5G.\",\n",
        "     {\"entities\": [(44, 53, \"PRODUCT_SERVICE_NAME\")]}),\n",
        "\n",
        "    (\"The service level agreement guarantees a resolution within 72 hours.\",\n",
        "     {\"entities\": [(31, 60, \"SLA_TERMS\")]}),\n",
        "\n",
        "    (\"Customer query: 'How do I change my billing address?'\n",
        "     , {\"entities\": [(0, 14, \"CUSTOMER_QUERY\")]}),\n",
        "\n",
        "    (\"They reached out to WhatsApp support to track their missing package.\",\n",
        "     {\"entities\": [(23, 40, \"SERVICE_TYPE\")]}),\n",
        "\n",
        "    (\"A failed payment issue occurred due to an expired credit card.\",\n",
        "     {\"entities\": [(2, 21, \"PAYMENT_ISSUE\")]}),\n",
        "\n",
        "    (\"Shipping and delivery information states that customs clearance is pending.\",\n",
        "     {\"entities\": [(0, 36, \"SHIPPING_DELIVERY_INFO\")]}),\n",
        "\n",
        "    (\"A return request was submitted for a defective espresso machine.\",\n",
        "     {\"entities\": [(2, 16, \"RETURN_REQUEST\")]}),\n",
        "\n",
        "    (\"Their feedback review stated: 'Support took over 5 hours to respond!'\n",
        "     , {\"entities\": [(6, 22, \"FEEDBACK_REVIEW\")]}),\n",
        "\n",
        "    (\"The discount code SUMMERDEAL50 was successfully applied.\",\n",
        "     {\"entities\": [(17, 30, \"DISCOUNT_CODE\")]}),\n",
        "]\n",
        "\n",
        "print(\"Training data set up!\")\n"
      ]
    },
    {
      "cell_type": "code",
      "execution_count": null,
      "metadata": {
        "id": "0YS9i3H-vV_T"
      },
      "outputs": [],
      "source": [
        "import spacy\n",
        "\n",
        "# Setting up spaCy's blank model\n",
        "nlp = spacy.blank(\"en\")\n",
        "\n",
        "# Add Named Entity Recognition\n",
        "ner = nlp.add_pipe(\"ner\")\n",
        "\n",
        "# Feeding it our labels and training data\n",
        "for _, annotations in TRAIN_DATA:\n",
        "    for ent in annotations[\"entities\"]:\n",
        "        ner.add_label(ent[2])\n"
      ]
    },
    {
      "cell_type": "code",
      "execution_count": null,
      "metadata": {},
      "outputs": [],
      "source": [
        "import random\n",
        "from spacy.training.example import Example\n",
        "\n",
        "# Begin training the model\n",
        "optimizer = nlp.begin_training()\n",
        "\n",
        "for epoch in range(30):\n",
        "    random.shuffle(TRAIN_DATA)\n",
        "    losses = {}\n",
        "    for text, annotations in TRAIN_DATA:\n",
        "        doc = nlp.make_doc(text)\n",
        "        example = Example.from_dict(doc, annotations)\n",
        "        nlp.update([example], sgd=optimizer, losses=losses)\n",
        "    print(f\"Epoch {epoch} - Loss: {losses}\")\n",
        "\n",
        "# Save the trained model to disk\n",
        "nlp.to_disk(\"trained_ner_model\")\n",
        "print(\"Model saved to 'trained_ner_model' folder!\")\n"
      ]
    }
  ]
}
