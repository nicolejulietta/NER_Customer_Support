{
  "nbformat": 4,
  "nbformat_minor": 2,
  "metadata": {
    "colab": {
      "provenance": [],
      "authorship_tag": "ABX9TyPJAzpE3CIKi1O5VzADaVxJ",
      "include_colab_link": true
    },
    "kernelspec": {
      "display_name": "Python 3",
      "name": "python3"
    },
    "language_info": {
      "name": "python",
      "version": "3.10.16"
    }
  },
  "cells": [
    {
      "cell_type": "markdown",
      "metadata": { "colab_type": "text", "id": "view-in-github" },
      "source": [
        "<a href=\"https://colab.research.google.com/github/your_username/your_repo/blob/main/project_phase1.ipynb\" target=\"_parent\"><img src=\"https://colab.research.google.com/assets/colab-badge.svg\" alt=\"Open In Colab\"/></a>"
      ]
    },
    {
      "cell_type": "code",
      "execution_count": null,
      "metadata": { "id": "install-deps" },
      "outputs": [],
      "source": [
        "!pip install spacy pandas PyPDF2\n",
        "!python -m spacy download en_core_web_sm  # Download the small English model\n"
      ]
    },
    {
      "cell_type": "code",
      "execution_count": null,
      "metadata": { "id": "import-deps" },
      "outputs": [],
      "source": [
        "import spacy\n",
        "import random\n",
        "from spacy.training.example import Example\n"
      ]
    },
    {
      "cell_type": "code",
      "execution_count": null,
      "metadata": { "id": "set-labels" },
      "outputs": [],
      "source": [
        "# Define your 30 entity labels (for both Customer Support and Customer Service)\n",
        "LABELS = [\n",
        "    \"CUSTOMER_NAME\", \"SUPPORT_AGENT\", \"PRODUCT_NAME\", \"ORDER_NUMBER\",\n",
        "    \"TICKET_NUMBER\", \"ISSUE_DESCRIPTION\", \"CUSTOMER_FEEDBACK\",\n",
        "    \"SERVICE_REQUEST\", \"PRODUCT_MODEL\", \"SUPPORT_CHANNEL\", \"LOCATION\",\n",
        "    \"COMPLAINT_TYPE\", \"TICKET_STATUS\", \"TIME_DATE\", \"ESCALATION_REQUEST\",\n",
        "    \"REFUND_REQUEST\", \"SHIPPING_INFO\", \"DISCOUNT_PROMO\",\n",
        "    \"CUSTOMER_SATISFACTION\", \"SURVEY_REQUEST\",\n",
        "    \"COMPANY_NAME\", \"PRODUCT_SERVICE_NAME\", \"SLA_TERMS\", \"CUSTOMER_QUERY\",\n",
        "    \"SERVICE_TYPE\", \"PAYMENT_ISSUE\", \"SHIPPING_DELIVERY_INFO\",\n",
        "    \"RETURN_REQUEST\", \"FEEDBACK_REVIEW\", \"DISCOUNT_CODE\"\n",
        "]\n",
        "print(\"All 30 entity labels are set up!\")\n"
      ]
    },
    {
      "cell_type": "code",
      "execution_count": null,
      "metadata": { "id": "train-data" },
      "outputs": [],
      "source": [
        "# Define training data using unique labels for your custom entities.\n",
        "# Use a suffix (_sp for support, _sv for service) to differentiate similar types.\n",
        "TRAIN_DATA = [\n",
        "    // Customer Support Entities\n",
        "    (\"Marissa Velez contacted support about a missing order.\", {\"entities\": [(0, 14, \"customer_names_sp\")]}),\n",
        "    (\"Support agent Juan Rodríguez resolved the issue quickly.\", {\"entities\": [(14, 28, \"support_agents_sp\")]}),\n",
        "    (\"The customer requested a refund for their Sony PlayStation 5.\", {\"entities\": [(40, 59, \"product_names_sp\")]}),\n",
        "    (\"Order #B78234 has been shipped and will arrive soon.\", {\"entities\": [(6, 13, \"order_numbers_sp\")]}),\n",
        "    (\"Ticket #R90765 is still open and awaiting an agent’s response.\", {\"entities\": [(7, 13, \"ticket_numbers_sp\")]}),\n",
        "    (\"The issue described was 'connectivity problems on Wi-Fi'.\", {\"entities\": [(27, 57, \"issue_description_sp\")]}),\n",
        "    (\"Customer feedback: 'The service was terrible, very frustrating!'\", {\"entities\": [(19, 60, \"customer_feedback_sp\")]}),\n",
        "    (\"The user submitted a warranty claim for their broken smartphone.\", {\"entities\": [(21, 36, \"service_req_sp\")]}),\n",
        "    (\"They need help with their new Google Pixel 8 Pro model.\", {\"entities\": [(30, 50, \"product_models_sp\")]}),\n",
        "    // Customer Service Entities\n",
        "    (\"Jonathan Ramirez reached out to customer service regarding a billing issue.\", {\"entities\": [(0, 16, \"customer_names_sv\")]}),\n",
        "    (\"Support agent Lucia Fernandez handled the request efficiently.\", {\"entities\": [(14, 30, \"support_reps_sv\")]}),\n",
        "    (\"Order #X92367 has been processed and is ready for delivery.\", {\"entities\": [(6, 13, \"order_numbers_sv\")]}),\n",
        "    (\"The client requested to escalate the complaint to senior management.\", {\"entities\": [(32, 56, \"escalation_req_sv\")]}),\n",
        "    (\"Toyota has been known for excellent customer service.\", {\"entities\": [(0, 6, \"company_names_sv\")]}),\n",
        "    (\"Customers often complain about connectivity issues with Verizon 5G.\", {\"entities\": [(44, 53, \"product_names_sv\")]}),\n",
        "    (\"The service level agreement guarantees a resolution within 72 hours.\", {\"entities\": [(31, 60, \"sla_sv\")]}),\n",
        "    (\"Customer query: 'How do I change my billing address?'\", {\"entities\": [(0, 14, \"customer_queries_sv\")]}),\n",
        "    (\"They reached out to WhatsApp support to track their missing package.\", {\"entities\": [(23, 40, \"service_types_sv\")]}),\n",
        "    (\"A failed payment issue occurred due to an expired credit card.\", {\"entities\": [(2, 21, \"payment_issues_sv\")]}),\n",
        "    (\"A return request was submitted for a defective espresso machine.\", {\"entities\": [(2, 16, \"refund_request_sv\")]}),\n",
        "    (\"Their feedback review stated: 'Support took over 5 hours to respond!'\", {\"entities\": [(6, 22, \"feedback_sv\")]}),\n",
        "    (\"The discount code SUMMERDEAL50 was successfully applied.\", {\"entities\": [(17, 30, \"discount_code_sv\")]}),\n",
        "    (\"Shipping and delivery information states that customs clearance is pending.\", {\"entities\": [(0, 36, \"shipping_info_sv\")]}),\n",
        "    (\"Customer satisfaction ratings indicate a 2.5-star average.\", {\"entities\": [(27, 44, \"cust_satisfaction_rating_sv\")]}),\n",
        "]\n",
        "print(\"Training data set up!\")\n"
      ]
    },
    {
      "cell_type": "code",
      "execution_count": null,
      "metadata": { "id": "setup-model" },
      "outputs": [],
      "source": [
        "import spacy\n",
        "\n",
        "# Create a blank English model\n",
        "nlp = spacy.blank(\"en\")\n",
        "\n",
        "# Add the NER pipeline\n",
        "ner = nlp.add_pipe(\"ner\")\n",
        "\n",
        "# Add labels from TRAIN_DATA\n",
        "for _, annotations in TRAIN_DATA:\n",
        "    for ent in annotations[\"entities\"]:\n",
        "        ner.add_label(ent[2])\n",
        "\n",
        "print(\"Blank model set up with NER pipeline and custom labels.\")\n"
      ]
    },
    {
      "cell_type": "code",
      "execution_count": null,
      "metadata": {},
      "outputs": [],
      "source": [
        "import random\n",
        "from spacy.training.example import Example\n",
        "\n",
        "# Begin training the model\n",
        "optimizer = nlp.begin_training()\n",
        "print(\"Starting training...\")\n",
        "\n",
        "for epoch in range(30):\n",
        "    random.shuffle(TRAIN_DATA)\n",
        "    losses = {}\n",
        "    for text, annotations in TRAIN_DATA:\n",
        "        doc = nlp.make_doc(text)\n",
        "        example = Example.from_dict(doc, annotations)\n",
        "        nlp.update([example], sgd=optimizer, losses=losses)\n",
        "    print(f\"Epoch {epoch} - Loss: {losses}\")\n",
        "\n",
        "# Save the trained model to disk\n",
        "nlp.to_disk(\"trained_ner_model\")\n",
        "print(\"Model saved to 'trained_ner_model' folder!\")\n"
      ]
    }
  ]
}

