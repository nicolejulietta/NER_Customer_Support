{
  "cells": [
    {
      "cell_type": "markdown",
      "metadata": {
        "colab_type": "text",
        "id": "view-in-github"
      },
      "source": [
        "<a href=\"https://colab.research.google.com/github/nicolejulietta/NER_Customer_Support/blob/main/Project_Phase1.ipynb\" target=\"_parent\"><img src=\"https://colab.research.google.com/assets/colab-badge.svg\" alt=\"Open In Colab\"/></a>"
      ]
    },
    {
      "cell_type": "code",
      "execution_count": null,
      "metadata": {
        "colab": {
          "base_uri": "https://localhost:8080/"
        },
        "id": "7JKCo7hd4eJD"
      },
      "outputs": [
        {
          "name": "stdout",
          "output_type": "stream",
          "text": [
            "Defaulting to user installation because normal site-packages is not writeable\n",
            "Requirement already satisfied: spacy in /home/shaniep/.local/lib/python3.10/site-packages (3.8.4)\n",
            "Requirement already satisfied: pandas in /home/shaniep/.local/lib/python3.10/site-packages (2.2.3)\n",
            "Requirement already satisfied: PyPDF2 in /home/shaniep/.local/lib/python3.10/site-packages (3.0.1)\n",
            "Requirement already satisfied: spacy-legacy<3.1.0,>=3.0.11 in /home/shaniep/.local/lib/python3.10/site-packages (from spacy) (3.0.12)\n",
            "Requirement already satisfied: spacy-loggers<2.0.0,>=1.0.0 in /home/shaniep/.local/lib/python3.10/site-packages (from spacy) (1.0.5)\n",
            "Requirement already satisfied: murmurhash<1.1.0,>=0.28.0 in /home/shaniep/.local/lib/python3.10/site-packages (from spacy) (1.0.12)\n",
            "Requirement already satisfied: cymem<2.1.0,>=2.0.2 in /home/shaniep/.local/lib/python3.10/site-packages (from spacy) (2.0.11)\n",
            "Requirement already satisfied: preshed<3.1.0,>=3.0.2 in /home/shaniep/.local/lib/python3.10/site-packages (from spacy) (3.0.9)\n",
            "Requirement already satisfied: thinc<8.4.0,>=8.3.4 in /home/shaniep/.local/lib/python3.10/site-packages (from spacy) (8.3.4)\n",
            "Requirement already satisfied: wasabi<1.2.0,>=0.9.1 in /home/shaniep/.local/lib/python3.10/site-packages (from spacy) (1.1.3)\n",
            "Requirement already satisfied: srsly<3.0.0,>=2.4.3 in /home/shaniep/.local/lib/python3.10/site-packages (from spacy) (2.5.1)\n",
            "Requirement already satisfied: catalogue<2.1.0,>=2.0.6 in /home/shaniep/.local/lib/python3.10/site-packages (from spacy) (2.0.10)\n",
            "Requirement already satisfied: weasel<0.5.0,>=0.1.0 in /home/shaniep/.local/lib/python3.10/site-packages (from spacy) (0.4.1)\n",
            "Requirement already satisfied: typer<1.0.0,>=0.3.0 in /home/shaniep/.local/lib/python3.10/site-packages (from spacy) (0.15.1)\n",
            "Requirement already satisfied: tqdm<5.0.0,>=4.38.0 in /home/shaniep/.local/lib/python3.10/site-packages (from spacy) (4.67.1)\n",
            "Requirement already satisfied: numpy>=1.19.0 in /home/shaniep/.local/lib/python3.10/site-packages (from spacy) (2.2.3)\n",
            "Requirement already satisfied: requests<3.0.0,>=2.13.0 in /home/shaniep/.local/lib/python3.10/site-packages (from spacy) (2.32.3)\n",
            "Requirement already satisfied: pydantic!=1.8,!=1.8.1,<3.0.0,>=1.7.4 in /home/shaniep/.local/lib/python3.10/site-packages (from spacy) (2.10.6)\n",
            "Requirement already satisfied: jinja2 in /home/shaniep/.local/lib/python3.10/site-packages (from spacy) (3.1.5)\n",
            "Requirement already satisfied: setuptools in /usr/lib/python3/dist-packages (from spacy) (45.2.0)\n",
            "Requirement already satisfied: packaging>=20.0 in /home/shaniep/.local/lib/python3.10/site-packages (from spacy) (24.2)\n",
            "Requirement already satisfied: langcodes<4.0.0,>=3.2.0 in /home/shaniep/.local/lib/python3.10/site-packages (from spacy) (3.5.0)\n",
            "Requirement already satisfied: python-dateutil>=2.8.2 in /home/shaniep/.local/lib/python3.10/site-packages (from pandas) (2.9.0.post0)\n",
            "Requirement already satisfied: pytz>=2020.1 in /home/shaniep/.local/lib/python3.10/site-packages (from pandas) (2025.1)\n",
            "Requirement already satisfied: tzdata>=2022.7 in /home/shaniep/.local/lib/python3.10/site-packages (from pandas) (2025.1)\n",
            "Requirement already satisfied: language-data>=1.2 in /home/shaniep/.local/lib/python3.10/site-packages (from langcodes<4.0.0,>=3.2.0->spacy) (1.3.0)\n",
            "Requirement already satisfied: annotated-types>=0.6.0 in /home/shaniep/.local/lib/python3.10/site-packages (from pydantic!=1.8,!=1.8.1,<3.0.0,>=1.7.4->spacy) (0.7.0)\n",
            "Requirement already satisfied: pydantic-core==2.27.2 in /home/shaniep/.local/lib/python3.10/site-packages (from pydantic!=1.8,!=1.8.1,<3.0.0,>=1.7.4->spacy) (2.27.2)\n",
            "Requirement already satisfied: typing-extensions>=4.12.2 in /home/shaniep/.local/lib/python3.10/site-packages (from pydantic!=1.8,!=1.8.1,<3.0.0,>=1.7.4->spacy) (4.12.2)\n",
            "Requirement already satisfied: six>=1.5 in /usr/lib/python3/dist-packages (from python-dateutil>=2.8.2->pandas) (1.14.0)\n",
            "Requirement already satisfied: charset-normalizer<4,>=2 in /home/shaniep/.local/lib/python3.10/site-packages (from requests<3.0.0,>=2.13.0->spacy) (3.4.1)\n",
            "Requirement already satisfied: idna<4,>=2.5 in /usr/lib/python3/dist-packages (from requests<3.0.0,>=2.13.0->spacy) (2.8)\n",
            "Requirement already satisfied: urllib3<3,>=1.21.1 in /usr/lib/python3/dist-packages (from requests<3.0.0,>=2.13.0->spacy) (1.25.8)\n",
            "Requirement already satisfied: certifi>=2017.4.17 in /usr/lib/python3/dist-packages (from requests<3.0.0,>=2.13.0->spacy) (2019.11.28)\n",
            "Requirement already satisfied: blis<1.3.0,>=1.2.0 in /home/shaniep/.local/lib/python3.10/site-packages (from thinc<8.4.0,>=8.3.4->spacy) (1.2.0)\n",
            "Requirement already satisfied: confection<1.0.0,>=0.0.1 in /home/shaniep/.local/lib/python3.10/site-packages (from thinc<8.4.0,>=8.3.4->spacy) (0.1.5)\n",
            "Requirement already satisfied: click>=8.0.0 in /home/shaniep/.local/lib/python3.10/site-packages (from typer<1.0.0,>=0.3.0->spacy) (8.1.8)\n",
            "Requirement already satisfied: shellingham>=1.3.0 in /home/shaniep/.local/lib/python3.10/site-packages (from typer<1.0.0,>=0.3.0->spacy) (1.5.4)\n",
            "Requirement already satisfied: rich>=10.11.0 in /home/shaniep/.local/lib/python3.10/site-packages (from typer<1.0.0,>=0.3.0->spacy) (13.9.4)\n",
            "Requirement already satisfied: cloudpathlib<1.0.0,>=0.7.0 in /home/shaniep/.local/lib/python3.10/site-packages (from weasel<0.5.0,>=0.1.0->spacy) (0.20.0)\n",
            "Requirement already satisfied: smart-open<8.0.0,>=5.2.1 in /home/shaniep/.local/lib/python3.10/site-packages (from weasel<0.5.0,>=0.1.0->spacy) (7.1.0)\n",
            "Requirement already satisfied: MarkupSafe>=2.0 in /home/shaniep/.local/lib/python3.10/site-packages (from jinja2->spacy) (3.0.2)\n",
            "Requirement already satisfied: marisa-trie>=1.1.0 in /home/shaniep/.local/lib/python3.10/site-packages (from language-data>=1.2->langcodes<4.0.0,>=3.2.0->spacy) (1.2.1)\n",
            "Requirement already satisfied: markdown-it-py>=2.2.0 in /home/shaniep/.local/lib/python3.10/site-packages (from rich>=10.11.0->typer<1.0.0,>=0.3.0->spacy) (3.0.0)\n",
            "Requirement already satisfied: pygments<3.0.0,>=2.13.0 in /home/shaniep/.local/lib/python3.10/site-packages (from rich>=10.11.0->typer<1.0.0,>=0.3.0->spacy) (2.19.1)\n",
            "Requirement already satisfied: wrapt in /home/shaniep/.local/lib/python3.10/site-packages (from smart-open<8.0.0,>=5.2.1->weasel<0.5.0,>=0.1.0->spacy) (1.17.2)\n",
            "Requirement already satisfied: mdurl~=0.1 in /home/shaniep/.local/lib/python3.10/site-packages (from markdown-it-py>=2.2.0->rich>=10.11.0->typer<1.0.0,>=0.3.0->spacy) (0.1.2)\n",
            "Note: you may need to restart the kernel to use updated packages.\n"
          ]
        },
        {
          "name": "stderr",
          "output_type": "stream",
          "text": [
            "UsageError: Line magic function `%python` not found (But cell magic `%%python` exists, did you mean that instead?).\n"
          ]
        }
      ],
      "source": [
        "!pip install spacy pandas PyPDF2\n",
        "!python -m spacy download en_core_web_sm #Helps recognize common entities\n"
      ]
    },
    {
      "cell_type": "code",
      "execution_count": null,
      "metadata": {
        "id": "TdDPgCQt8Zvl"
      },
      "outputs": [],
      "source": [
        "import spacy\n",
        "import random\n",
        "from spacy.training.example import Example\n"
      ]
    },
    {
      "cell_type": "code",
      "execution_count": null,
      "metadata": {
        "colab": {
          "base_uri": "https://localhost:8080/"
        },
        "id": "I6MaQhVJ95bA"
      },
      "outputs": [],
      "source": [
        "# Load Spacy's basic English model\n",
        "nlp = spacy.load(\"en_core_web_sm\")\n"
      ]
    },
    {
      "cell_type": "code",
      "execution_count": null,
      "metadata": {
        "colab": {
          "base_uri": "https://localhost:8080/"
        },
        "id": "uzTbrdv2-yi2"
      },
      "outputs": [],
      "source": [
        "LABELS = [\n",
        "    #Customer Support Entities\n",
        "    \"CUSTOMER_NAME\", \"SUPPORT_AGENT\", \"PRODUCT_NAME\", \"ORDER_NUMBER\",\n",
        "    \"TICKET_NUMBER\", \"ISSUE_DESCRIPTION\", \"CUSTOMER_FEEDBACK\",\n",
        "    \"SERVICE_REQUEST\", \"PRODUCT_MODEL\", \"SUPPORT_CHANNEL\", \"LOCATION\",\n",
        "    \"COMPLAINT_TYPE\", \"TICKET_STATUS\", \"TIME_DATE\", \"ESCALATION_REQUEST\",\n",
        "    \"REFUND_REQUEST\", \"SHIPPING_INFO\", \"DISCOUNT_PROMO\",\n",
        "    \"CUSTOMER_SATISFACTION\", \"SURVEY_REQUEST\",\n",
        "\n",
        "    # Customer Service Entities\n",
        "    \"COMPANY_NAME\", \"PRODUCT_SERVICE_NAME\", \"SLA_TERMS\", \"CUSTOMER_QUERY\",\n",
        "    \"SERVICE_TYPE\", \"PAYMENT_ISSUE\", \"SHIPPING_DELIVERY_INFO\",\n",
        "    \"RETURN_REQUEST\", \"FEEDBACK_REVIEW\", \"DISCOUNT_CODE\"\n",
        "]\n",
        "\n",
        "print(\"All 30 entity labels are set up!\")\n"
      ]
    },
    {
      "cell_type": "code",
      "execution_count": null,
      "metadata": {
        "id": "dPOsmBMQslFk"
      },
      "outputs": [],
      "source": [
        "TRAIN_DATA = [\n",
        "    #Customer Support Entities\n",
        "    (\"Marissa Velez contacted support about a missing order.\",\n",
        "     {\"entities\": [(0, 14, \"customer_names_sp\")]}),\n",
        "\n",
        "    (\"Support agent Juan Rodríguez resolved the issue quickly.\",\n",
        "     {\"entities\": [(14, 28, \"support_agents_sp\")]}),\n",
        "\n",
        "    (\"The customer requested a refund for their Sony PlayStation 5.\",\n",
        "     {\"entities\": [(40, 59, \"product_names_sp\")]}),\n",
        "\n",
        "    (\"Order #B78234 has been shipped and will arrive soon.\",\n",
        "     {\"entities\": [(6, 13, \"order_numbers_sp\")]}),\n",
        "\n",
        "    (\"Ticket #R90765 is still open and awaiting an agent’s response.\",\n",
        "     {\"entities\": [(7, 13, \"ticket_numbers_sp\")]}),\n",
        "\n",
        "    (\"The issue described was 'connectivity problems on Wi-Fi'.\",\n",
        "     {\"entities\": [(27, 57, \"issue_description_sp\")]}),\n",
        "\n",
        "    (\"Customer feedback: 'The service was terrible, very frustrating!\"\n",
        "     , {\"entities\": [(19, 60, \"customer_feedback_sp\")]}),\n",
        "\n",
        "    (\"The user submitted a warranty claim for their broken smartphone.\",\n",
        "     {\"entities\": [(21, 36, \"service_req_sp\")]}),\n",
        "\n",
        "    (\"They need help with their new Google Pixel 8 Pro model.\",\n",
        "     {\"entities\": [(30, 50, \"product_models_sp\")]}),\n",
        "\n",
        "    (\"Customer complaint: 'I received the wrong color for my sneakers!\", \n",
        "     {\"entities\": [(19, 58, \"complaint_types_sp\")]}),\n",
        "\n",
        "    (\"The last update on this case was on February 19, 2025.\",\n",
        "     {\"entities\": [(36, 51, \"time_date_sp\")]}),\n",
        "\n",
        "    (\"The customer asked to escalate the issue to the regional manager.\",\n",
        "     {\"entities\": [(34, 58, \"escalation_req_sp\")]}),\n",
        "\n",
        "    (\"A refund request was submitted for the defective washing machine.\",\n",
        "     {\"entities\": [(2, 16, \"refund_request_sp\")]}),\n",
        "\n",
        "    (\"Shipping information shows that the package is 'delayed in transit'.\",\n",
        "     {\"entities\": [(26, 43, \"shipping_info_sp\")]}),\n",
        "\n",
        "    (\"The customer used a 30\\%\\ discount promo during their purchase.\",\n",
        "     {\"entities\": [(27, 48, \"discount_promos_sp\")]}),\n",
        "\n",
        "    \n",
        "    # Customer Service Entities\n",
        "\n",
        "    (\"Jonathan Ramirez reached out to customer service regarding a billing issue.\",  \n",
        "     {\"entities\": [(0, 16, \"customer_names_sv\")]}),\n",
        "\n",
        "    (\"Support agent Lucia Fernandez handled the request efficiently.\",  \n",
        "     {\"entities\": [(14, 30, \"support_reps_sv\")]}),  \n",
        "\n",
        "    (\"Order #X92367 has been processed and is ready for delivery.\",  \n",
        "     {\"entities\": [(6, 13, \"order_numbers_sv\")]}), \n",
        "\n",
        "    (\"The client requested to escalate the complaint to senior management.\",  \n",
        "     {\"entities\": [(32, 56, \"escalation_req_sp\")]}),\n",
        "\n",
        "    (\"Toyota has been known for excellent customer service.\",\n",
        "     {\"entities\": [(0, 6, \"company_names_sv\")]}),\n",
        "\n",
        "    (\"Customers often complain about connectivity issues with Verizon 5G.\",\n",
        "     {\"entities\": [(44, 53, \"product_names_sv\")]}),\n",
        "\n",
        "    (\"The service level agreement guarantees a resolution within 72 hours.\",\n",
        "     {\"entities\": [(31, 60, \"sla_sv\")]}),\n",
        "\n",
        "    (\"Customer query: 'How do I change my billing address?\"\n",
        "     , {\"entities\": [(0, 14, \"customer_queries_sv\")]}),\n",
        "\n",
        "    (\"They reached out to WhatsApp support to track their missing package.\",\n",
        "     {\"entities\": [(23, 40, \"service_types_sv\")]}),\n",
        "\n",
        "    (\"A failed payment issue occurred due to an expired credit card.\",\n",
        "     {\"entities\": [(2, 21, \"payment_issues_sv\")]}),\n",
        "\n",
        "    (\"A return request was submitted for a defective espresso machine.\",\n",
        "     {\"entities\": [(2, 16, \"refund_request_sv\")]}),\n",
        "\n",
        "    (\"Their feedback review stated: 'Support took over 5 hours to respond!\",\n",
        "     {\"entities\": [(6, 22, \"feedback_sv\")]}),\n",
        "\n",
        "    (\"The discount code SUMMERDEAL50 was successfully applied.\",\n",
        "     {\"entities\": [(17, 30, \"discount_code_sv\")]}),\n",
        "\n",
        "    (\"Shipping and delivery information states that customs clearance is pending.\",\n",
        "     {\"entities\": [(0, 36, \"shipping_info_sv\")]}),\n",
        "\n",
        "    (\"Customer satisfaction ratings indicate a 2.5-star average.\",\n",
        "     {\"entities\": [(27, 44, \"customer_satisfaction_sp\")]}),\n",
        "    \n",
        "]\n",
        "\n",
        "print(\"Training data set up!\")\n"
      ]
    },
    {
      "cell_type": "code",
      "execution_count": null,
      "metadata": {
        "id": "0YS9i3H-vV_T"
      },
      "outputs": [],
      "source": [
        "import spacy\n",
        "\n",
        "# Setting up spaCy's blank model\n",
        "nlp = spacy.blank(\"en\")\n",
        "\n",
        "# Add Named Entity Recognition\n",
        "ner = nlp.add_pipe(\"ner\")\n",
        "\n",
        "# Feeding it our labels and training data\n",
        "for _, annotations in TRAIN_DATA:\n",
        "    for ent in annotations[\"entities\"]:\n",
        "        ner.add_label(ent[2])\n"
      ]
    },
    {
      "cell_type": "code",
      "execution_count": null,
      "metadata": {},
      "outputs": [],
      "source": [
        "import random\n",
        "from spacy.training.example import Example\n",
        "\n",
        "# Begin training the model\n",
        "optimizer = nlp.begin_training()\n",
        "\n",
        "for epoch in range(30):\n",
        "    random.shuffle(TRAIN_DATA)\n",
        "    losses = {}\n",
        "    for text, annotations in TRAIN_DATA:\n",
        "        doc = nlp.make_doc(text)\n",
        "        example = Example.from_dict(doc, annotations)\n",
        "        nlp.update([example], sgd=optimizer, losses=losses)\n",
        "    print(f\"Epoch {epoch} - Loss: {losses}\")\n",
        "\n",
        "# Save the trained model to disk\n",
        "nlp.to_disk(\"trained_ner_model\")\n",
        "print(\"Model saved to 'trained_ner_model' folder!\")\n"
      ]
    }
  ],
  "metadata": {
    "colab": {
      "authorship_tag": "ABX9TyPJAzpE3CIKi1O5VzADaVxJ",
      "include_colab_link": true,
      "provenance": []
    },
    "kernelspec": {
      "display_name": "Python 3",
      "name": "python3"
    },
    "language_info": {
      "codemirror_mode": {
        "name": "ipython",
        "version": 3
      },
      "file_extension": ".py",
      "mimetype": "text/x-python",
      "name": "python",
      "nbconvert_exporter": "python",
      "pygments_lexer": "ipython3",
      "version": "3.10.16"
    }
  },
  "nbformat": 4,
  "nbformat_minor": 2
}
